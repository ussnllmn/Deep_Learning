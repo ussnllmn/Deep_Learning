{
  "nbformat": 4,
  "nbformat_minor": 0,
  "metadata": {
    "orig_nbformat": 4,
    "language_info": {
      "name": "python",
      "version": "3.9.7",
      "mimetype": "text/x-python",
      "codemirror_mode": {
        "name": "ipython",
        "version": 3
      },
      "pygments_lexer": "ipython3",
      "nbconvert_exporter": "python",
      "file_extension": ".py"
    },
    "kernelspec": {
      "name": "python3",
      "display_name": "Python 3.9.7 64-bit ('venv': venv)"
    },
    "interpreter": {
      "hash": "cda8cc9fa9f0703fd0454ebd9e7babe1c1f48803b29321daa28706de2d716a87"
    },
    "colab": {
      "name": "main.ipynb",
      "provenance": [],
      "machine_shape": "hm",
      "include_colab_link": true
    },
    "accelerator": "GPU"
  },
  "cells": [
    {
      "cell_type": "markdown",
      "metadata": {
        "id": "view-in-github",
        "colab_type": "text"
      },
      "source": [
        "<a href=\"https://colab.research.google.com/github/ussnllmn/Deep_Learning/blob/main/Test2.ipynb\" target=\"_parent\"><img src=\"https://colab.research.google.com/assets/colab-badge.svg\" alt=\"Open In Colab\"/></a>"
      ]
    },
    {
      "cell_type": "code",
      "metadata": {
        "id": "svoO9Ts5whrK"
      },
      "source": [
        "''' IMPORT ALL THE THINGS '''\n",
        "import os\n",
        "import matplotlib.pyplot as plt\n",
        "import cv2\n",
        "import numpy as np\n",
        "import tensorflow as tf\n",
        "from tensorflow.keras.preprocessing.image import ImageDataGenerator\n",
        "from tensorflow.keras.preprocessing import image\n",
        "from tensorflow.keras.optimizers import RMSprop\n",
        "from tensorflow.keras.models import Sequential, Model\n",
        "from tensorflow.keras import layers\n",
        "from tensorflow.keras.applications.vgg16 import VGG16\n",
        "from tensorflow.keras.applications.vgg19 import VGG19\n",
        "import pandas as pd"
      ],
      "execution_count": 2,
      "outputs": []
    },
    {
      "cell_type": "code",
      "metadata": {
        "colab": {
          "base_uri": "https://localhost:8080/"
        },
        "id": "iQ9FIlkgfebp",
        "outputId": "bab12631-eee3-4091-cb32-6695ef97e320"
      },
      "source": [
        "from google.colab import drive\n",
        "drive.mount('/content/drive')"
      ],
      "execution_count": null,
      "outputs": [
        {
          "output_type": "stream",
          "name": "stdout",
          "text": [
            "Drive already mounted at /content/drive; to attempt to forcibly remount, call drive.mount(\"/content/drive\", force_remount=True).\n"
          ]
        }
      ]
    },
    {
      "cell_type": "code",
      "metadata": {
        "id": "MAdLhilAKTn7"
      },
      "source": [
        "device_name = tf.test.gpu_device_name()\n",
        "if device_name != '/device:GPU:0':\n",
        "  raise SystemError('GPU device not found')\n",
        "print('Found GPU at: {}'.format(device_name))"
      ],
      "execution_count": null,
      "outputs": []
    },
    {
      "cell_type": "code",
      "metadata": {
        "id": "_1McTLm3whrO"
      },
      "source": [
        "''' DEFINE PATH TO THE DATASETS '''\n",
        "\n",
        "'''CWD = os.getcwd().replace('\\\\','/') # get current workspace directory\n",
        "IMAGE_DIR = f'{CWD}/images'\n",
        "TRAIN_DATASET_DIR = f'{IMAGE_DIR}/train'\n",
        "TEST_DATASET_DIR = f'{IMAGE_DIR}/test'\n",
        "VAL_DATASET_DIR = f'{IMAGE_DIR}/validation'\n",
        "\n",
        "CATEGORIES = ['clementine','grapefruit','orange']'''\n",
        "\n",
        "# print('CWD :',CWD)\n",
        "# print('IMAGE_DIR :',IMAGE_DIR)\n",
        "# print('TRAIN_DATASET_DIR :',TRAIN_DATASET_DIR)\n",
        "# print('TEST_DATASET_DIR :',TEST_DATASET_DIR)\n",
        "# print('VAL_DATASET_DIR :',VAL_DATASET_DIR)\n",
        "# print('CATEGORIES :', CATEGORIES)"
      ],
      "execution_count": null,
      "outputs": []
    },
    {
      "cell_type": "markdown",
      "metadata": {
        "id": "w5oeplbO6FHS"
      },
      "source": [
        "**กำหนด path ใหม่ เพราะ run จาก machine บน google colab**"
      ]
    },
    {
      "cell_type": "code",
      "metadata": {
        "id": "ELF4fS6B6XKz"
      },
      "source": [
        "train = ImageDataGenerator(rescale= 1/255)\n",
        "validation = ImageDataGenerator(rescale= 1/255)"
      ],
      "execution_count": null,
      "outputs": []
    },
    {
      "cell_type": "code",
      "metadata": {
        "id": "j-JnxK7n67Rc"
      },
      "source": [
        "train_dataset = train.flow_from_directory(\"/content/drive/MyDrive/Images_of_Waste/train\",\n",
        "                                          target_size=(224,224),\n",
        "                                          batch_size = 3,\n",
        "                                          class_mode =\"categorical\")\n",
        "\n",
        "validation_dataset = validation.flow_from_directory(\"/content/drive/MyDrive/Images_of_Waste/valid\",\n",
        "                                          target_size=(224,224),\n",
        "                                          batch_size = 3,\n",
        "                                          class_mode =\"categorical\")"
      ],
      "execution_count": null,
      "outputs": []
    },
    {
      "cell_type": "code",
      "metadata": {
        "id": "AyNrRMuDESoi"
      },
      "source": [
        "train_dataset.class_indices"
      ],
      "execution_count": null,
      "outputs": []
    },
    {
      "cell_type": "code",
      "metadata": {
        "id": "QfK4YiqbEou6"
      },
      "source": [
        "validation_dataset.class_indices"
      ],
      "execution_count": null,
      "outputs": []
    },
    {
      "cell_type": "code",
      "metadata": {
        "id": "83R_wF3JwhrR"
      },
      "source": [
        "''' Create Augmented Data '''"
      ],
      "execution_count": null,
      "outputs": []
    },
    {
      "cell_type": "code",
      "metadata": {
        "id": "QCVXu81LwhrR"
      },
      "source": [
        "''' Get pre train model '''\n",
        "VGG = VGG16(input_shape=(224, 224, 3), include_top=False, weights='imagenet')\n",
        "VGG.trainable = False"
      ],
      "execution_count": null,
      "outputs": []
    },
    {
      "cell_type": "code",
      "metadata": {
        "id": "NmP6rHnwwhrS"
      },
      "source": [
        "''' Create a model '''\n",
        "model = tf.keras.models.Sequential([\n",
        "                                    VGG,\n",
        "                                    tf.keras.layers.Flatten(),\n",
        "                                    tf.keras.layers.Dense(512, activation='relu'),\n",
        "                                    tf.keras.layers.Dense(512, activation='relu'),\n",
        "                                    tf.keras.layers.Dense(3, activation='softmax')\n",
        "])"
      ],
      "execution_count": null,
      "outputs": []
    },
    {
      "cell_type": "code",
      "metadata": {
        "id": "-VOwZcGDwhrT"
      },
      "source": [
        "model.summary() # show all the model's layer"
      ],
      "execution_count": null,
      "outputs": []
    },
    {
      "cell_type": "code",
      "metadata": {
        "id": "2uUHQYgSwhrT"
      },
      "source": [
        "''' Compiling '''\n",
        "\n",
        "opt = tf.keras.optimizers.Adam(learning_rate=0.001) ### can be changed\n",
        "los = tf.keras.losses.categorical_crossentropy  ### can be changed\n",
        "  \n",
        "\n",
        "model.compile(optimizer=opt, loss=los, metrics=['accuracy'])\n"
      ],
      "execution_count": null,
      "outputs": []
    },
    {
      "cell_type": "code",
      "metadata": {
        "id": "VPOrdsIKwhrU"
      },
      "source": [
        "''' Training '''\n",
        "model.fit(\n",
        "    train_dataset, # both data and label cause we use ImageDataGenerator\n",
        "    \n",
        "    epochs=5, ### can be change \n",
        "    validation_data= validation_dataset,\n",
        "    \n",
        "    shuffle=True \n",
        ")\n"
      ],
      "execution_count": null,
      "outputs": []
    },
    {
      "cell_type": "code",
      "metadata": {
        "id": "pJP_WcgTwhrV"
      },
      "source": [
        "''' Evaluating '''\n",
        "print(model.history.history.keys())"
      ],
      "execution_count": null,
      "outputs": []
    },
    {
      "cell_type": "code",
      "metadata": {
        "id": "Z-R9rXEIQslw"
      },
      "source": [
        "plt.plot(model.history.history['accuracy'])\n",
        "plt.plot(model.history.history['val_accuracy'])\n",
        "plt.title('model accuracy')\n",
        "plt.ylabel('accuracy')\n",
        "plt.xlabel('epoch')\n",
        "plt.legend(['train', 'validation'], loc='upper left')\n",
        "plt.show()"
      ],
      "execution_count": null,
      "outputs": []
    },
    {
      "cell_type": "code",
      "metadata": {
        "id": "qf40evtmSvY0"
      },
      "source": [
        "plt.plot(model.history.history['loss'])\n",
        "plt.plot(model.history.history['val_loss'])\n",
        "plt.title('model loss')\n",
        "plt.ylabel('loss')\n",
        "plt.xlabel('epoch')\n",
        "plt.legend(['loss', 'val_loss'], loc='upper left')\n",
        "plt.show()"
      ],
      "execution_count": null,
      "outputs": []
    },
    {
      "cell_type": "code",
      "metadata": {
        "id": "PShaEYjXwhrV"
      },
      "source": [
        "''' Predicting '''\n"
      ],
      "execution_count": null,
      "outputs": []
    },
    {
      "cell_type": "markdown",
      "metadata": {
        "id": "S0GkD3XRza2X"
      },
      "source": [
        "# ชื่อไฟล์\n",
        "\n",
        " \n",
        "\n",
        "*   740-821  = Orange\n",
        "*   906-1005 = Clementine\n",
        "*   911-1012 = Grapefruit *มี (2) ในชื่อที่ซ้ำ\n",
        "\n",
        "\n",
        "\n",
        "\n"
      ]
    },
    {
      "cell_type": "code",
      "metadata": {
        "id": "7Y5zaROMaXKu"
      },
      "source": [
        "dir_path = '/content/drive/MyDrive/Images_of_Waste/test'\n",
        "for i in os.listdir(dir_path):\n",
        "    img = tf.keras.preprocessing.image.load_img(dir_path+'//'+i, target_size=(224,224))\n",
        "    plt.imshow(img)\n",
        "    plt.show()\n",
        "\n",
        "    X= tf.keras.preprocessing.image.img_to_array(img)\n",
        "    X= np.expand_dims(X,axis=0)\n",
        "    image = np.vstack([X])\n",
        "    val = model.predict(image)\n",
        "    '''print(val)\n",
        "    print(val[0][0])\n",
        "    print(val[0][1])\n",
        "    print(val[0][2])\n",
        "    print(np.argmax(val)) '''\n",
        "\n",
        "    if val[0][0] > val[0][1] and val[0][0] > val[0][2] :\n",
        "        print('This is AluCan : '+i)\n",
        "    \n",
        "    elif val[0][1] > val[0][0] and val[0][1] > val[0][2] :\n",
        "        print('This isGlass : '+i)\n",
        "\n",
        "    elif val[0][2] > val[0][0] and val[0][2] > val[0][1] :\n",
        "        print('This is PET : '+i)"
      ],
      "execution_count": null,
      "outputs": []
    }
  ]
}